{
  "nbformat": 4,
  "nbformat_minor": 0,
  "metadata": {
    "colab": {
      "name": "P2.ipynb",
      "provenance": [],
      "include_colab_link": true
    },
    "kernelspec": {
      "name": "python3",
      "display_name": "Python 3"
    },
    "language_info": {
      "name": "python"
    }
  },
  "cells": [
    {
      "cell_type": "markdown",
      "metadata": {
        "id": "view-in-github",
        "colab_type": "text"
      },
      "source": [
        "<a href=\"https://colab.research.google.com/github/anderson-silveira/P2_Estatistica_Probabilidade/blob/main/P2.ipynb\" target=\"_parent\"><img src=\"https://colab.research.google.com/assets/colab-badge.svg\" alt=\"Open In Colab\"/></a>"
      ]
    },
    {
      "cell_type": "code",
      "execution_count": 9,
      "metadata": {
        "colab": {
          "base_uri": "https://localhost:8080/"
        },
        "id": "LkRFZTqhkDtb",
        "outputId": "0e1229ea-aee0-4578-89fc-d00c0e037952"
      },
      "outputs": [
        {
          "output_type": "stream",
          "name": "stdout",
          "text": [
            "42857.142857142855\n"
          ]
        }
      ],
      "source": [
        "import pandas as pd\n",
        "import numpy as np\n",
        "from scipy.stats import binom \n",
        "import matplotlib.pyplot as plt\n",
        "\n",
        "##3 red, 2 blue, 1 blak, 1 yellow\n",
        "\n",
        "\n",
        "url=\"https://raw.githubusercontent.com/anderson-silveira/P2_Estatistica_Probabilidade/main/7balls.csv\"\n",
        "\n",
        "bolas = pd.read_csv(url)\n",
        "#print(bolas)\n",
        "primeira = bolas[\"first\"]\n",
        "#print(primeira)\n",
        "\n",
        "n=100000\n",
        "\n",
        "r_sucesso = 3/7\n",
        "r_fracasso = 4/7\n",
        "#print(r_sucesso+r_fracasso)\n",
        "\n",
        "mean, var = binom.stats(n, r_sucesso) \n",
        "print(mean)\n"
      ]
    }
  ]
}