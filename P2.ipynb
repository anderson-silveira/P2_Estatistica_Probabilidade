{
  "nbformat": 4,
  "nbformat_minor": 0,
  "metadata": {
    "colab": {
      "name": "P2.ipynb",
      "provenance": [],
      "include_colab_link": true
    },
    "kernelspec": {
      "name": "python3",
      "display_name": "Python 3"
    },
    "language_info": {
      "name": "python"
    }
  },
  "cells": [
    {
      "cell_type": "markdown",
      "metadata": {
        "id": "view-in-github",
        "colab_type": "text"
      },
      "source": [
        "<a href=\"https://colab.research.google.com/github/anderson-silveira/P2_Estatistica_Probabilidade/blob/main/P2.ipynb\" target=\"_parent\"><img src=\"https://colab.research.google.com/assets/colab-badge.svg\" alt=\"Open In Colab\"/></a>"
      ]
    },
    {
      "cell_type": "code",
      "execution_count": 26,
      "metadata": {
        "colab": {
          "base_uri": "https://localhost:8080/",
          "height": 265
        },
        "id": "LkRFZTqhkDtb",
        "outputId": "f9176593-8eaf-4bbb-f7fb-f735bf191443"
      },
      "outputs": [
        {
          "output_type": "display_data",
          "data": {
            "image/png": "[encoded data removed]",
            "text/plain": [
              "<Figure size 432x288 with 1 Axes>"
            ]
          },
          "metadata": {
            "needs_background": "light"
          }
        }
      ],
      "source": [
        "import pandas as pd\n",
        "import numpy as np\n",
        "from scipy.stats import binom \n",
        "import matplotlib.pyplot as plt\n",
        "\n",
        "##3 red, 2 blue, 1 blak, 1 yellow\n",
        "\n",
        "\n",
        "url=\"https://raw.githubusercontent.com/anderson-silveira/P2_Estatistica_Probabilidade/main/7balls.csv\"\n",
        "\n",
        "bolas = pd.read_csv(url)\n",
        "primeira = bolas[\"first\"]\n",
        "\n",
        "n=500\n",
        "\n",
        "vermelho_sucesso = 3/7\n",
        "r_valores = list(range(n + 1)) \n",
        "dist = [binom.pmf(r, n, vermelho_sucesso) for r in r_valores ]\n",
        "\n",
        "\n",
        "# for i in range(100): \n",
        "#     print(str(r_valores[i]) + \"\\t\" + str(dist[i])) \n",
        "\n",
        "plt.bar(r_valores, dist) \n",
        "plt.show()\n",
        "\n",
        "# mean, var = binom.stats(n, r_sucesso) \n",
        "# print(sum)\n"
      ]
    }
  ]
}