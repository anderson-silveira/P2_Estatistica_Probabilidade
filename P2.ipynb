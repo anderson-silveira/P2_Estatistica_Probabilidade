{
  "nbformat": 4,
  "nbformat_minor": 0,
  "metadata": {
    "colab": {
      "name": "P2.ipynb",
      "provenance": [],
      "include_colab_link": true
    },
    "kernelspec": {
      "name": "python3",
      "display_name": "Python 3"
    },
    "language_info": {
      "name": "python"
    }
  },
  "cells": [
    {
      "cell_type": "markdown",
      "metadata": {
        "id": "view-in-github",
        "colab_type": "text"
      },
      "source": [
        "<a href=\"https://colab.research.google.com/github/anderson-silveira/P2_Estatistica_Probabilidade/blob/main/P2.ipynb\" target=\"_parent\"><img src=\"https://colab.research.google.com/assets/colab-badge.svg\" alt=\"Open In Colab\"/></a>"
      ]
    },
    {
      "cell_type": "code",
      "execution_count": 22,
      "metadata": {
        "colab": {
          "base_uri": "https://localhost:8080/",
          "height": 1000
        },
        "id": "LkRFZTqhkDtb",
        "outputId": "4640db32-f933-427a-af21-9ea5cb5ebb83"
      },
      "outputs": [
        {
          "output_type": "stream",
          "name": "stdout",
          "text": [
            "0\t2.019858921701876e-07\n",
            "1\t3.3664315361697307e-06\n",
            "2\t2.7773060173400703e-05\n",
            "3\t0.00015120888316628756\n",
            "4\t0.0006111359027970802\n",
            "5\t0.001955634888950805\n",
            "6\t0.005160703179175579\n",
            "7\t0.011550145210535115\n",
            "8\t0.022378406345411998\n",
            "9\t0.03812617377366542\n",
            "10\t0.057824696890059896\n",
            "11\t0.0788518593955424\n",
            "12\t0.09746965953059608\n",
            "13\t0.10996576972682062\n",
            "14\t0.11389311864564255\n",
            "15\t0.1088312022613929\n",
            "16\t0.09636096033560644\n",
            "17\t0.07935608498226238\n",
            "18\t0.06098662086599437\n",
            "19\t0.04386756939483775\n",
            "20\t0.029610609341515392\n",
            "21\t0.01880038688350425\n",
            "22\t0.011251746695429847\n",
            "23\t0.006359682914807889\n",
            "24\t0.003400663780834959\n",
            "25\t0.0017230029822897222\n",
            "26\t0.0008283668184085266\n",
            "27\t0.0003783897812483124\n",
            "28\t0.00016441936923290379\n",
            "29\t6.803560106189212e-05\n",
            "30\t2.6836264863302106e-05\n",
            "31\t1.0099669572209995e-05\n",
            "32\t3.629568752512939e-06\n",
            "33\t1.2465185614690794e-06\n",
            "34\t4.0939580205114397e-07\n",
            "35\t1.2866725207321677e-07\n",
            "36\t3.871931196647742e-08\n",
            "37\t1.116232417051585e-08\n",
            "38\t3.0843264155372676e-09\n",
            "39\t8.172146912961939e-10\n",
            "40\t2.077087340377705e-10\n",
            "41\t5.0660666838484933e-11\n",
            "42\t1.1861029140755952e-11\n",
            "43\t2.666432907611793e-12\n",
            "44\t5.757071050525551e-13\n",
            "45\t1.194059180849671e-13\n",
            "46\t2.379465758939705e-14\n",
            "47\t4.556423793714126e-15\n",
            "48\t8.385085453710361e-16\n",
            "49\t1.483076338751503e-16\n",
            "50\t2.5212297758775922e-17\n",
            "51\t4.1196564965319565e-18\n",
            "52\t6.469973343912237e-19\n",
            "53\t9.76599750024464e-20\n",
            "54\t1.4166724768874042e-20\n",
            "55\t1.9747555738429035e-21\n",
            "56\t2.6447619292540527e-22\n",
            "57\t3.402617686759599e-23\n",
            "58\t4.204383923294867e-24\n",
            "59\t4.9882521123839305e-25\n",
            "60\t5.681064905770168e-26\n",
            "61\t6.2088141046671534e-27\n",
            "62\t6.509240593602709e-28\n",
            "63\t6.543681020023885e-29\n",
            "64\t6.3051093161689665e-30\n",
            "65\t5.820100907232835e-31\n",
            "66\t5.144028579625073e-32\n",
            "67\t4.350670937990996e-33\n",
            "68\t3.5189250233750726e-34\n",
            "69\t2.7199420470532876e-35\n",
            "70\t2.00757627282511e-36\n",
            "71\t1.413786107623292e-37\n",
            "72\t9.490693778026594e-39\n",
            "73\t6.067110177733751e-40\n",
            "74\t3.6894588918653453e-41\n",
            "75\t2.1316873597444037e-42\n",
            "76\t1.1686882454739149e-43\n",
            "77\t6.071107768695229e-45\n",
            "78\t2.983664074358898e-46\n",
            "79\t1.3848229880991843e-47\n",
            "80\t6.058600572933052e-49\n",
            "81\t2.4932512645815083e-50\n",
            "82\t9.628409355091457e-52\n",
            "83\t3.4801479596717557e-53\n",
            "84\t1.1738594308416886e-54\n",
            "85\t3.6826962536210976e-56\n",
            "86\t1.0705512365177528e-57\n",
            "87\t2.8712102128826144e-59\n",
            "88\t7.069267569597896e-61\n",
            "89\t1.5885994538423033e-62\n",
            "90\t3.2360359244932434e-64\n",
            "91\t5.926805722515035e-66\n",
            "92\t9.663270199752905e-68\n",
            "93\t1.385415082401799e-69\n",
            "94\t1.7194868043994996e-71\n",
            "95\t1.8099861098943178e-73\n",
            "96\t1.5711684981719888e-75\n",
            "97\t1.0798408922144223e-77\n",
            "98\t5.5093923072167896e-80\n",
            "99\t1.8550142448540552e-82\n"
          ]
        },
        {
          "output_type": "display_data",
          "data": {
            "image/png": "[encoded data removed]",
            "text/plain": [
              "<Figure size 432x288 with 1 Axes>"
            ]
          },
          "metadata": {
            "needs_background": "light"
          }
        },
        {
          "output_type": "stream",
          "name": "stdout",
          "text": [
            "0\n"
          ]
        }
      ],
      "source": [
        "import pandas as pd\n",
        "import numpy as np\n",
        "from scipy.stats import binom \n",
        "import matplotlib.pyplot as plt\n",
        "\n",
        "##3 red, 2 blue, 1 blak, 1 yellow\n",
        "\n",
        "\n",
        "url=\"https://raw.githubusercontent.com/anderson-silveira/P2_Estatistica_Probabilidade/main/7balls.csv\"\n",
        "\n",
        "bolas = pd.read_csv(url)\n",
        "#print(bolas)\n",
        "primeira = bolas[\"first\"]\n",
        "#print(primeira)\n",
        "\n",
        "n=100\n",
        "\n",
        "r_sucesso = 1/7\n",
        "r_fracasso = 4/7\n",
        "r_valores = list(range(n + 1)) \n",
        "dist = [binom.pmf(r, n, r_sucesso) for r in r_valores ]\n",
        "#print(r_sucesso+r_fracasso)\n",
        "\n",
        "sum=0\n",
        "\n",
        "for i in range(100): \n",
        "    print(str(r_valores[i]) + \"\\t\" + str(dist[i])) \n",
        "    #sum=sum+dist[i]\n",
        "\n",
        "plt.bar(r_valores, dist) \n",
        "plt.show()\n",
        "\n",
        "mean, var = binom.stats(n, r_sucesso) \n",
        "print(sum)\n"
      ]
    }
  ]
}