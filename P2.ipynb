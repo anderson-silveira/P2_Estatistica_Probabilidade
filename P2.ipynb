{
  "nbformat": 4,
  "nbformat_minor": 0,
  "metadata": {
    "colab": {
      "name": "P2.ipynb",
      "provenance": [],
      "authorship_tag": "ABX9TyPGEpYX2oio06Bq7RLxWjBP",
      "include_colab_link": true
    },
    "kernelspec": {
      "name": "python3",
      "display_name": "Python 3"
    },
    "language_info": {
      "name": "python"
    }
  },
  "cells": [
    {
      "cell_type": "markdown",
      "metadata": {
        "id": "view-in-github",
        "colab_type": "text"
      },
      "source": [
        "<a href=\"https://colab.research.google.com/github/anderson-silveira/P2_Estatistica_Probabilidade/blob/main/P2.ipynb\" target=\"_parent\"><img src=\"https://colab.research.google.com/assets/colab-badge.svg\" alt=\"Open In Colab\"/></a>"
      ]
    },
    {
      "cell_type": "code",
      "execution_count": 3,
      "metadata": {
        "colab": {
          "base_uri": "https://localhost:8080/"
        },
        "id": "LkRFZTqhkDtb",
        "outputId": "77c49e8d-22bd-494a-b4bc-d3b8305e74e2"
      },
      "outputs": [
        {
          "output_type": "stream",
          "name": "stdout",
          "text": [
            "        first second  third  fourth   fifth   sixth seventh\n",
            "0         red  black   blue     red    blue  yellow     red\n",
            "1       black    red   blue     red     red    blue  yellow\n",
            "2         red  black    red  yellow    blue    blue     red\n",
            "3         red  black   blue    blue  yellow     red     red\n",
            "4       black    red   blue    blue     red     red  yellow\n",
            "...       ...    ...    ...     ...     ...     ...     ...\n",
            "99995     red   blue   blue  yellow     red     red   black\n",
            "99996  yellow   blue   blue     red     red   black     red\n",
            "99997    blue    red  black     red    blue  yellow     red\n",
            "99998    blue    red  black     red  yellow     red    blue\n",
            "99999    blue    red    red  yellow   black     red    blue\n",
            "\n",
            "[100000 rows x 7 columns]\n"
          ]
        }
      ],
      "source": [
        "import pandas as pd\n",
        "import numpy as np\n",
        "import matplotlib.pyplot as plt\n",
        "\n",
        "\n",
        "url=\"https://raw.githubusercontent.com/anderson-silveira/P2_Estatistica_Probabilidade/main/7balls.csv\"\n",
        "\n",
        "bolas = pd.read_csv(url)\n",
        "print(bolas)"
      ]
    }
  ]
}